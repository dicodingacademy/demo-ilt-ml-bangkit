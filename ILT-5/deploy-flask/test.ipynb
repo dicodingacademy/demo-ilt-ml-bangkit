{
 "cells": [
  {
   "cell_type": "code",
   "execution_count": 1,
   "metadata": {},
   "outputs": [],
   "source": [
    "import requests\n",
    "import json\n"
   ]
  },
  {
   "cell_type": "code",
   "execution_count": 2,
   "metadata": {},
   "outputs": [
    {
     "data": {
      "text/plain": [
       "{'data': [[4.9, 3.0, 1.4, 0.2]], 'prediction': ['0']}"
      ]
     },
     "execution_count": 2,
     "metadata": {},
     "output_type": "execute_result"
    }
   ],
   "source": [
    "json_data = json.dumps(\n",
    "    {\n",
    "        \"data\": [[4.9, 3.0, 1.4, 0.2]]\n",
    "    }\n",
    ")\n",
    "\n",
    "\n",
    "endpoint = \"http://localhost:5000/predict\"\n",
    "headers = {\"content-type\": \"application/json\"}\n",
    "\n",
    "response = requests.post(endpoint, data=json_data, headers=headers)\n",
    "response.json()"
   ]
  },
  {
   "cell_type": "code",
   "execution_count": null,
   "metadata": {},
   "outputs": [],
   "source": []
  },
  {
   "cell_type": "code",
   "execution_count": null,
   "metadata": {},
   "outputs": [],
   "source": []
  }
 ],
 "metadata": {
  "interpreter": {
   "hash": "705df7a9c3cf9cdea557e82ec1d5fab37a2c9572b4244f6aa4f26ad283c1f37c"
  },
  "kernelspec": {
   "display_name": "Python 3.9.7 ('ilt-3-bangkit')",
   "language": "python",
   "name": "python3"
  },
  "language_info": {
   "codemirror_mode": {
    "name": "ipython",
    "version": 3
   },
   "file_extension": ".py",
   "mimetype": "text/x-python",
   "name": "python",
   "nbconvert_exporter": "python",
   "pygments_lexer": "ipython3",
   "version": "3.9.7"
  },
  "orig_nbformat": 4
 },
 "nbformat": 4,
 "nbformat_minor": 2
}
